{
 "cells": [
  {
   "cell_type": "markdown",
   "id": "317b0afc",
   "metadata": {},
   "source": [
    "# Q1 Fun with list and tuple "
   ]
  },
  {
   "cell_type": "code",
   "execution_count": 10,
   "id": "f40f25c3",
   "metadata": {},
   "outputs": [
    {
     "name": "stdout",
     "output_type": "stream",
     "text": [
      "[(2, 1), (1, 2), (2, 3), (4, 4), (2, 5)]\n"
     ]
    }
   ],
   "source": [
    "L1 = [(2, 5), (1, 2), (4, 4), (2, 3), (2, 1)]\n",
    "\n",
    "L2 =[]\n",
    "L3 =[]\n",
    "\n",
    "for t in L1:\n",
    "    L2.append(t[1],)\n",
    "\n",
    "L2.sort()\n",
    "for l in L2:\n",
    "    for q in L1:\n",
    "        if l == int(q[1],):\n",
    "            L3.append(q)\n",
    "\n",
    "print(L3)"
   ]
  },
  {
   "cell_type": "markdown",
   "id": "bfbb9d98",
   "metadata": {},
   "source": [
    "# Question 2 Dictionary"
   ]
  },
  {
   "cell_type": "code",
   "execution_count": 13,
   "id": "871a9fb9",
   "metadata": {},
   "outputs": [
    {
     "name": "stdout",
     "output_type": "stream",
     "text": [
      "Dictionary: {'a': 97, 'b': 98, 'c': 99, 'd': 100, 'e': 101, 'f': 102, 'g': 103, 'h': 104, 'i': 105, 'j': 106, 'k': 107, 'l': 108, 'm': 109, 'n': 110, 'o': 111, 'p': 112, 'q': 113, 'r': 114, 's': 115, 't': 116, 'u': 117, 'v': 118, 'w': 119, 'x': 120, 'y': 121, 'z': 122}\n"
     ]
    }
   ],
   "source": [
    "l={}\n",
    "for i in range(97,123):\n",
    "    l[chr(i)]=i\n",
    "\n",
    "print(\"Dictionary:\",l)\n",
    "\n"
   ]
  },
  {
   "cell_type": "code",
   "execution_count": null,
   "id": "ffc9c314",
   "metadata": {},
   "outputs": [],
   "source": []
  }
 ],
 "metadata": {
  "kernelspec": {
   "display_name": "Python 3 (ipykernel)",
   "language": "python",
   "name": "python3"
  },
  "language_info": {
   "codemirror_mode": {
    "name": "ipython",
    "version": 3
   },
   "file_extension": ".py",
   "mimetype": "text/x-python",
   "name": "python",
   "nbconvert_exporter": "python",
   "pygments_lexer": "ipython3",
   "version": "3.9.6"
  }
 },
 "nbformat": 4,
 "nbformat_minor": 5
}
